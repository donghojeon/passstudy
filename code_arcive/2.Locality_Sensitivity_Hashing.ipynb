{
 "cells": [
  {
   "cell_type": "markdown",
   "metadata": {},
   "source": [
    "local senitivity hash 방법을 이용하여 ID를 기준으로 유사한 데이터(ID, PW쌍)를 모은뒤\n",
    "\n",
    "패스워드들간 유사도를 JARO Winkler 알고리즘을 통해 분류하였고 threshold 0.8을 넘는 데이터만을\n",
    "\n",
    "dataframe으로 정리하였다. 이 데이터 프래임은 ./jdh/korean/data1~4.csv로 각각저장하였고 이를 concat한 데이터 \n",
    "\n",
    "./jdh/korean/dataset.csv의 크기는 약110만 이었다"
   ]
  },
  {
   "cell_type": "code",
   "execution_count": 25,
   "metadata": {},
   "outputs": [],
   "source": [
    "import re\n",
    "import time\n",
    "import string\n",
    "from datasketch import MinHash, MinHashLSHForest\n",
    "\n",
    "import os\n",
    "import pickle\n",
    "import random\n",
    "import pandas as pd\n",
    "from pyjarowinkler import distance"
   ]
  },
  {
   "cell_type": "code",
   "execution_count": 91,
   "metadata": {
    "code_folding": [
     0,
     6,
     50,
     67,
     76,
     90,
     99
    ]
   },
   "outputs": [],
   "source": [
    "def preprocess(text):\n",
    "    num_gram = 4\n",
    "    tokens = [text[i:i+num_gram] for i in range(len(text)-num_gram+1)]\n",
    "\n",
    "    return tokens\n",
    "\n",
    "def get_forest(data, perms):\n",
    "    start_time = time.time()\n",
    "    \n",
    "    minhash = []\n",
    "    \n",
    "    for text in data['ID']:\n",
    "        tokens = preprocess(text)\n",
    "        m = MinHash(num_perm=perms)\n",
    "        for s in tokens:\n",
    "            m.update(s.encode('utf8'))\n",
    "        minhash.append(m)\n",
    "        \n",
    "    forest = MinHashLSHForest(num_perm=perms)\n",
    "    \n",
    "    for i,m in enumerate(minhash):\n",
    "        forest.add(i,m)\n",
    "        \n",
    "    forest.index()\n",
    "    \n",
    "    print('It took %s seconds to build forest.' %(time.time()-start_time))\n",
    "    \n",
    "    return forest\n",
    "\n",
    "#def predict(text, database, perms, num_results, forest):\n",
    "#def predict(text, database, perms, num_results, forest):\n",
    "    start_time = time.time()\n",
    "    \n",
    "    tokens = preprocess(text)\n",
    "    m = MinHash(num_perm=perms)\n",
    "    for s in tokens:\n",
    "        m.update(s.encode('utf8'))\n",
    "        \n",
    "    idx_array = np.array(forest.query(m, num_results))\n",
    "    if len(idx_array) == 0:\n",
    "        return None # if your query is empty, return none\n",
    "    \n",
    "    #result = database.iloc[idx_array]['id']\n",
    "    #result_pw = database.iloc[idx_array]['password']\n",
    "    result = idx_array\n",
    "    \n",
    "    #print('It took %s seconds to query forest.' %(time.time()-start_time))\n",
    "    \n",
    "    return result\n",
    "\n",
    "def predict(text, perms, num_results, forest):\n",
    "\n",
    "    start_time = time.time()\n",
    "    \n",
    "    tokens = preprocess(text)\n",
    "    m = MinHash(num_perm=perms)\n",
    "    for s in tokens:\n",
    "        m.update(s.encode('utf8'))\n",
    "        \n",
    "    idx_array = np.array(forest.query(m, num_results))\n",
    "    if len(idx_array) == 0:\n",
    "        return None # if your query is empty, return none\n",
    "    \n",
    "    result = idx_array\n",
    "    \n",
    "    return result\n",
    "\n",
    "def hash_list(values):\n",
    "    total = '0'\n",
    "    for i in range(len(values)):\n",
    "        total += values[i]    \n",
    "    result = hash(total)\n",
    "    #print(total)\n",
    "    \n",
    "    return(result)\n",
    "\n",
    "def lsh(num):\n",
    "    \n",
    "    a= data['ID'][num]\n",
    "    b = data['PW'][num]\n",
    "    refer = [a,b]\n",
    "    \n",
    "    idx = num\n",
    "    compare_id = refer[0]\n",
    "    \n",
    "    predict_result = predict(compare_id, permutations, num_recommendations, forest)\n",
    "    \n",
    "    #lsh_data = data.iloc[sorted(predict_result)]    \n",
    "    return(predict_result)\n",
    "\n",
    "def Hashing(hash_list):\n",
    "    total = '0'\n",
    "    for i in range(len(hash_list)):\n",
    "        total += hash_list[i]    \n",
    "    result = hash(total)\n",
    "    #print(total)\n",
    "    \n",
    "    return(result)\n",
    "\n",
    "def PWset(idx):\n",
    "    reference = data['PW'][idx]\n",
    "    \n",
    "    result  = lsh(idx)\n",
    "    temp_df = data.loc[sorted(result)]\n",
    "    \n",
    "    PW = list(temp_df['PW'].values)\n",
    "    PWset = list()\n",
    "    \n",
    "    for password in PW:\n",
    "        temp = distance.get_jaro_distance(reference, password)\n",
    "        #print(reference, password)\n",
    "        if 1>= temp > threshold:\n",
    "            PWset.append(password)\n",
    "    PWset = list(set(PWset))\n",
    "    \n",
    "    if len(PWset)>1:\n",
    "        return PWset"
   ]
  },
  {
   "cell_type": "code",
   "execution_count": 5,
   "metadata": {},
   "outputs": [],
   "source": [
    "def SaveForest(forest, seq):\n",
    "    \n",
    "    save_path = './LSH_Pickle/'+'s/'+'forest_s_'+str(seq) +'.pickle'\n",
    "    with open (save_path, 'wb') as f:\n",
    "        pickle.dump(forest,f)\n",
    "    print(seq, 'forest_saved')\n",
    "    \n",
    "def SavePWset(data, seq):\n",
    "        \n",
    "    data = data.dropna(how='any')\n",
    "    data['HashTag'] = data['PWset'].apply(Hashing)\n",
    "    data = data.drop_duplicates(subset='HashTag', keep ='first')\n",
    "    \n",
    "    \n",
    "    save_path = './LSH_Data/'+'s/'+'s_'+str(seq) +'.pickle'\n",
    "    data.to_pickle(save_path)\n",
    "    print(seq,'Data Pickle Saved')\n",
    "    print('')"
   ]
  },
  {
   "cell_type": "code",
   "execution_count": 135,
   "metadata": {},
   "outputs": [],
   "source": [
    "#Number of Permutations\n",
    "\n",
    "threshold = 0.8\n",
    "permutations = 32\n",
    "num_recommendations = 30"
   ]
  },
  {
   "cell_type": "markdown",
   "metadata": {},
   "source": [
    "a(24), b(15), c(15), d(16), e(8), f(7), g(10), h(7), i(6)\n",
    "\n",
    "j(14), k(13), l(13), m(23), n(9), o(4), p(11), q(1), r(12)\n",
    "\n",
    "s(25), t(12), u(2), v(7), w(5), x(2), y(3), z(3)"
   ]
  },
  {
   "cell_type": "code",
   "execution_count": null,
   "metadata": {
    "code_folding": [
     0
    ]
   },
   "outputs": [],
   "source": [
    "for i in range(25):\n",
    "    \n",
    "    path = './For_LSH_data/s/'+'s_'+str(i)+'.pickle'\n",
    "    data = pd.read_pickle(path)\n",
    "    print(data.head())\n",
    "    \n",
    "    forest = get_forest(data, permutations)\n",
    "    \n",
    "    SaveForest(forest,i)\n",
    "    \n",
    "    data = data.assign(index=lambda x: data.index)\n",
    "    start = time.time()\n",
    "    data['PWset'] = data['index'].apply(PWset)\n",
    "    current = time.time() - start\n",
    "    print('Making PWset consumed time:' ,current)\n",
    "    \n",
    "    SavePWset(data, i)\n",
    "    "
   ]
  },
  {
   "cell_type": "code",
   "execution_count": null,
   "metadata": {},
   "outputs": [],
   "source": []
  }
 ],
 "metadata": {
  "kernelspec": {
   "display_name": "Python 3",
   "language": "python",
   "name": "python3"
  },
  "language_info": {
   "codemirror_mode": {
    "name": "ipython",
    "version": 3
   },
   "file_extension": ".py",
   "mimetype": "text/x-python",
   "name": "python",
   "nbconvert_exporter": "python",
   "pygments_lexer": "ipython3",
   "version": "3.6.9"
  },
  "varInspector": {
   "cols": {
    "lenName": 16,
    "lenType": 16,
    "lenVar": 40
   },
   "kernels_config": {
    "python": {
     "delete_cmd_postfix": "",
     "delete_cmd_prefix": "del ",
     "library": "var_list.py",
     "varRefreshCmd": "print(var_dic_list())"
    },
    "r": {
     "delete_cmd_postfix": ") ",
     "delete_cmd_prefix": "rm(",
     "library": "var_list.r",
     "varRefreshCmd": "cat(var_dic_list()) "
    }
   },
   "types_to_exclude": [
    "module",
    "function",
    "builtin_function_or_method",
    "instance",
    "_Feature"
   ],
   "window_display": false
  }
 },
 "nbformat": 4,
 "nbformat_minor": 2
}
